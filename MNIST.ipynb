{
  "nbformat": 4,
  "nbformat_minor": 0,
  "metadata": {
    "orig_nbformat": 2,
    "kernelspec": {
      "name": "python3",
      "display_name": "Python 3"
    },
    "metadata": {
      "interpreter": {
        "hash": "2db524e06e9f5f4ffedc911c917cb75e12dbc923643829bf417064a77eb14d37"
      }
    },
    "colab": {
      "name": "MNIST.ipynb",
      "provenance": [],
      "collapsed_sections": []
    },
    "language_info": {
      "name": "python"
    }
  },
  "cells": [
    {
      "cell_type": "markdown",
      "metadata": {
        "id": "37wV4KjTYQ_h"
      },
      "source": [
        "Reading [MNIST](https://github.com/HosseinZaredar/Computational-Intelligence/blob/main/read_MNIST.py) dataset:"
      ]
    },
    {
      "cell_type": "code",
      "metadata": {
        "id": "B8eRLKYOYQ_r"
      },
      "source": [
        "import numpy as np\n",
        "\n",
        "base_path = '/content/drive/MyDrive/AI/'\n",
        "# Reading The Train Set\n",
        "train_images_file = open(base_path + 'train-images.idx3-ubyte', 'rb')\n",
        "train_images_file.seek(4)\n",
        "num_of_train_images = int.from_bytes(train_images_file.read(4), 'big')\n",
        "train_images_file.seek(16)\n",
        "\n",
        "train_labels_file = open(base_path + 'train-labels.idx1-ubyte', 'rb')\n",
        "train_labels_file.seek(8)\n",
        "\n",
        "train_set = []\n",
        "for n in range(num_of_train_images):\n",
        "    image = np.zeros((784, 1))\n",
        "    for i in range(784):\n",
        "        image[i, 0] = int.from_bytes(train_images_file.read(1), 'big') / 256\n",
        "    \n",
        "    label_value = int.from_bytes(train_labels_file.read(1), 'big')\n",
        "    label = np.zeros((10, 1))\n",
        "    label[label_value, 0] = 1\n",
        "    \n",
        "    train_set.append((image, label))\n",
        "\n",
        "\n",
        "# Reading The Test Set\n",
        "test_images_file = open(base_path + 't10k-images.idx3-ubyte', 'rb')\n",
        "test_images_file.seek(4)\n",
        "\n",
        "test_labels_file = open(base_path + 't10k-labels.idx1-ubyte', 'rb')\n",
        "test_labels_file.seek(8)\n",
        "\n",
        "num_of_test_images = int.from_bytes(test_images_file.read(4), 'big')\n",
        "test_images_file.seek(16)\n",
        "\n",
        "test_set = []\n",
        "for n in range(num_of_test_images):\n",
        "    image = np.zeros((784, 1))\n",
        "    for i in range(784):\n",
        "        image[i] = int.from_bytes(test_images_file.read(1), 'big') / 256\n",
        "    \n",
        "    label_value = int.from_bytes(test_labels_file.read(1), 'big')\n",
        "    label = np.zeros((10, 1))\n",
        "    label[label_value, 0] = 1\n",
        "    \n",
        "    test_set.append((image, label))\n"
      ],
      "execution_count": 54,
      "outputs": []
    },
    {
      "cell_type": "markdown",
      "metadata": {
        "id": "T4KMH_WeYQ_u"
      },
      "source": [
        "Function to show images:"
      ]
    },
    {
      "cell_type": "code",
      "metadata": {
        "id": "YvhgNpJgYQ_w"
      },
      "source": [
        "import matplotlib.pyplot as plt\n",
        "\n",
        "# A function to plot images\n",
        "def show_image(img):\n",
        "    image = img.reshape((28, 28))\n",
        "    plt.imshow(image, 'gray')\n"
      ],
      "execution_count": 55,
      "outputs": []
    },
    {
      "cell_type": "markdown",
      "metadata": {
        "id": "py1rCIECYQ_x"
      },
      "source": [
        "Testing the read data:"
      ]
    },
    {
      "cell_type": "code",
      "metadata": {
        "colab": {
          "base_uri": "https://localhost:8080/",
          "height": 283
        },
        "id": "jGJqI88qYQ_y",
        "outputId": "b1124a70-ece1-43aa-d80c-02346013952a"
      },
      "source": [
        "# Plotting an image\n",
        "show_image(train_set[5][0])\n",
        "plt.show()\n",
        "\n",
        "def get_number(train_set, index):\n",
        "  sum = 0\n",
        "  for c in train_set[index][1]:\n",
        "      if c == 0:\n",
        "          sum += 1\n",
        "      else:\n",
        "          break\n",
        "  return sum\n",
        "\n",
        "print(get_number(train_set, 5))"
      ],
      "execution_count": 97,
      "outputs": [
        {
          "output_type": "display_data",
          "data": {
            "image/png": "[encoded data removed]",
            "text/plain": [
              "<Figure size 432x288 with 1 Axes>"
            ]
          },
          "metadata": {
            "tags": [],
            "needs_background": "light"
          }
        },
        {
          "output_type": "stream",
          "text": [
            "2\n"
          ],
          "name": "stdout"
        }
      ]
    },
    {
      "cell_type": "markdown",
      "metadata": {
        "id": "AfrHzEm3YQ_z"
      },
      "source": [
        "Neural Network's structure:\n",
        "- 28*28 = 784 neurons for first layer\n",
        "- Hidden layers: 2nd & 3rd layer -> 16 neurons\n",
        "- Last layer: output -> 10 neurons\n",
        "  \n",
        "![Image](\"https://drive.google.com/file/d/1TDPRy4K2TKTzwZllWMd1cFP8934T0HnZ/view?usp=sharing\")\n",
        "  \n",
        "Initialize wieght matrixes and bias arrays:"
      ]
    },
    {
      "cell_type": "code",
      "metadata": {
        "id": "dhOddh0ZYQ_0"
      },
      "source": [
        "layerNeurons = [784, 16, 16, 10]\n",
        "\n",
        "def init():\n",
        "    center = 0\n",
        "    margin = 1\n",
        "    w21Mat = np.random.normal(center, margin, size = (layerNeurons[1], layerNeurons[0]))\n",
        "    b1 = np.zeros((layerNeurons[1],1))\n",
        "\n",
        "    w32Mat = np.random.normal(center, margin, size = (layerNeurons[2], layerNeurons[1]))\n",
        "    b2 = np.zeros((layerNeurons[2],1))\n",
        "\n",
        "    w43Mat = np.random.normal(center, margin, size = (layerNeurons[3], layerNeurons[2]))\n",
        "    b3 = np.zeros((layerNeurons[3],1))\n",
        "    return w21Mat, w32Mat, w43Mat, b1, b2, b3"
      ],
      "execution_count": null,
      "outputs": []
    },
    {
      "cell_type": "code",
      "metadata": {
        "id": "ue984j0_zEqV"
      },
      "source": [
        "\n",
        "def sigmoid(x):\n",
        "  \n",
        "    z = np.exp(-x)\n",
        "    sig = 1 / (1 + z)\n",
        "\n",
        "    return sig"
      ],
      "execution_count": 56,
      "outputs": []
    },
    {
      "cell_type": "code",
      "metadata": {
        "id": "_MP7pvnszYuU"
      },
      "source": [
        "def result(o):\n",
        "  max_index = 0\n",
        "  max_num = 0\n",
        "  for i in range(len(o)):\n",
        "    if o[i] > max_num:\n",
        "      max_num = o[i]\n",
        "      max_index = i\n",
        "  return max_index\n",
        "\n",
        "def calculate_accuracy(train_set, output):\n",
        "  counter = 0\n",
        "  for i in range(100):\n",
        "    if output[i] == get_number(train_set, i):\n",
        "      counter+=1\n",
        "  return counter/100\n"
      ],
      "execution_count": 98,
      "outputs": []
    },
    {
      "cell_type": "markdown",
      "metadata": {
        "id": "XGkyVFdWYQ_1"
      },
      "source": [
        "Calculate result for first 100 images"
      ]
    },
    {
      "cell_type": "code",
      "metadata": {
        "colab": {
          "base_uri": "https://localhost:8080/"
        },
        "id": "vAuJxiH4YQ_1",
        "outputId": "e2e10194-1152-4136-dcfd-910f7bad873d"
      },
      "source": [
        "w21Mat, w32Mat, w43Mat, b1, b2, b3 = init()\n",
        "output = []\n",
        "for i in range(100):\n",
        "  a1 = sigmoid((w21Mat @ train_set[i][0]) + b1)\n",
        "  a2 = sigmoid((w32Mat @ a1) + b2)\n",
        "  a3 = sigmoid((w43Mat @ a2) + b3)\n",
        "  output.append(result(a3))\n",
        "\n",
        "print('Accuracy: ' + str(calculate_accuracy(train_set, output)))\n",
        "  "
      ],
      "execution_count": 109,
      "outputs": [
        {
          "output_type": "stream",
          "text": [
            "Accuracy: 0.11\n"
          ],
          "name": "stdout"
        }
      ]
    },
    {
      "cell_type": "code",
      "metadata": {
        "id": "aS6VVwA7YQ_2"
      },
      "source": [
        ""
      ],
      "execution_count": null,
      "outputs": []
    },
    {
      "cell_type": "code",
      "metadata": {
        "id": "-DUdhkrjogxW"
      },
      "source": [
        ""
      ],
      "execution_count": null,
      "outputs": []
    }
  ]
}