{
  "nbformat": 4,
  "nbformat_minor": 0,
  "metadata": {
    "colab": {
      "name": "MNIST.ipynb",
      "provenance": [],
      "collapsed_sections": []
    },
    "kernelspec": {
      "display_name": "Python 3",
      "name": "python3"
    },
    "language_info": {
      "name": "python"
    },
    "metadata": {
      "interpreter": {
        "hash": "2db524e06e9f5f4ffedc911c917cb75e12dbc923643829bf417064a77eb14d37"
      }
    }
  },
  "cells": [
    {
      "cell_type": "markdown",
      "metadata": {
        "id": "37wV4KjTYQ_h"
      },
      "source": [
        "**Reading [MNIST](https://github.com/HosseinZaredar/Computational-Intelligence/blob/main/read_MNIST.py) dataset:**"
      ]
    },
    {
      "cell_type": "code",
      "metadata": {
        "id": "B8eRLKYOYQ_r"
      },
      "source": [
        "import numpy as np\n",
        "\n",
        "base_path = ''\n",
        "# Reading The Train Set\n",
        "train_images_file = open(base_path + 'train-images.idx3-ubyte', 'rb')\n",
        "train_images_file.seek(4)\n",
        "num_of_train_images = int.from_bytes(train_images_file.read(4), 'big')\n",
        "train_images_file.seek(16)\n",
        "\n",
        "train_labels_file = open(base_path + 'train-labels.idx1-ubyte', 'rb')\n",
        "train_labels_file.seek(8)\n",
        "\n",
        "train_set = []\n",
        "for n in range(num_of_train_images):\n",
        "    image = np.zeros((784, 1))\n",
        "    for i in range(784):\n",
        "        image[i, 0] = int.from_bytes(train_images_file.read(1), 'big') / 256\n",
        "    \n",
        "    label_value = int.from_bytes(train_labels_file.read(1), 'big')\n",
        "    label = np.zeros((10, 1))\n",
        "    label[label_value, 0] = 1\n",
        "    \n",
        "    train_set.append((image, label))\n",
        "\n",
        "\n",
        "# Reading The Test Set\n",
        "test_images_file = open(base_path + 't10k-images.idx3-ubyte', 'rb')\n",
        "test_images_file.seek(4)\n",
        "\n",
        "test_labels_file = open(base_path + 't10k-labels.idx1-ubyte', 'rb')\n",
        "test_labels_file.seek(8)\n",
        "\n",
        "num_of_test_images = int.from_bytes(test_images_file.read(4), 'big')\n",
        "test_images_file.seek(16)\n",
        "\n",
        "test_set = []\n",
        "for n in range(num_of_test_images):\n",
        "    image = np.zeros((784, 1))\n",
        "    for i in range(784):\n",
        "        image[i] = int.from_bytes(test_images_file.read(1), 'big') / 256\n",
        "    \n",
        "    label_value = int.from_bytes(test_labels_file.read(1), 'big')\n",
        "    label = np.zeros((10, 1))\n",
        "    label[label_value, 0] = 1\n",
        "    \n",
        "    test_set.append((image, label))\n"
      ],
      "execution_count": null,
      "outputs": []
    },
    {
      "cell_type": "markdown",
      "metadata": {
        "id": "T4KMH_WeYQ_u"
      },
      "source": [
        "Function to show images:"
      ]
    },
    {
      "cell_type": "code",
      "metadata": {
        "id": "YvhgNpJgYQ_w"
      },
      "source": [
        "import matplotlib.pyplot as plt\n",
        "\n",
        "# A function to plot images\n",
        "def show_image(img):\n",
        "    image = img.reshape((28, 28))\n",
        "    plt.imshow(image, 'gray')\n",
        "    plt.show()\n",
        "\n",
        "def plot(x, y):\n",
        "    axes= plt.axes()\n",
        "    plt.plot(x, y)\n",
        "    axes.grid()\n",
        "    plt.show()\n"
      ],
      "execution_count": null,
      "outputs": []
    },
    {
      "cell_type": "markdown",
      "metadata": {
        "id": "py1rCIECYQ_x"
      },
      "source": [
        "Testing the read data:"
      ]
    },
    {
      "cell_type": "code",
      "metadata": {
        "colab": {
          "base_uri": "https://localhost:8080/",
          "height": 283
        },
        "id": "jGJqI88qYQ_y",
        "outputId": "c3395f81-2840-4236-d61d-7128769e4a38"
      },
      "source": [
        "# Plotting an image\n",
        "show_image(train_set[5][0])\n",
        "\n",
        "def get_number(image_value):\n",
        "  sum = 0\n",
        "  for c in image_value[1]:\n",
        "      if c == 0:\n",
        "          sum += 1\n",
        "      else:\n",
        "          break\n",
        "  return sum\n",
        "\n",
        "print(get_number(train_set[5]))"
      ],
      "execution_count": null,
      "outputs": [
        {
          "output_type": "display_data",
          "data": {
            "image/png": "[encoded data removed]",
            "text/plain": [
              "<Figure size 432x288 with 1 Axes>"
            ]
          },
          "metadata": {
            "tags": [],
            "needs_background": "light"
          }
        },
        {
          "output_type": "stream",
          "text": [
            "2\n"
          ],
          "name": "stdout"
        }
      ]
    },
    {
      "cell_type": "markdown",
      "metadata": {
        "id": "AfrHzEm3YQ_z"
      },
      "source": [
        "Neural Network's structure:\n",
        "- 28*28 = 784 neurons for first layer\n",
        "- Hidden layers: 2nd & 3rd layer -> 16 neurons\n",
        "- Last layer: output -> 10 neurons\n",
        "  \n",
        "**Initialize wieght matrixes and bias arrays and grads:**"
      ]
    },
    {
      "cell_type": "code",
      "metadata": {
        "id": "dhOddh0ZYQ_0"
      },
      "source": [
        "layerNeurons = [784, 16, 16, 10]\n",
        "\n",
        "def init_nn():\n",
        "    center = 0\n",
        "    margin = 1\n",
        "    w21Mat = np.random.normal(center, margin, size = (layerNeurons[1], layerNeurons[0]))\n",
        "    b1 = np.zeros((layerNeurons[1],1))\n",
        "\n",
        "    w32Mat = np.random.normal(center, margin, size = (layerNeurons[2], layerNeurons[1]))\n",
        "    b2 = np.zeros((layerNeurons[2],1))\n",
        "\n",
        "    w43Mat = np.random.normal(center, margin, size = (layerNeurons[3], layerNeurons[2]))\n",
        "    b3 = np.zeros((layerNeurons[3],1))\n",
        "    return w21Mat, w32Mat, w43Mat, b1, b2, b3\n",
        "\n",
        "def init_grad():\n",
        "    grad_W21 = np.zeros((layerNeurons[1], layerNeurons[0]))\n",
        "    grad_W32 = np.zeros((layerNeurons[2], layerNeurons[1]))\n",
        "    grad_W43 = np.zeros((layerNeurons[3], layerNeurons[2]))\n",
        "\n",
        "    grad_b1 = np.zeros((layerNeurons[1],1))\n",
        "    grad_b2 = np.zeros((layerNeurons[2],1))\n",
        "    grad_b3 = np.zeros((layerNeurons[3],1))\n",
        "\n",
        "    grad_a0 = np.zeros((layerNeurons[0],1))\n",
        "    grad_a1 = np.zeros((layerNeurons[1],1))\n",
        "    grad_a2 = np.zeros((layerNeurons[2],1))\n",
        "\n",
        "    return grad_W21, grad_W32, grad_W43, grad_b1, grad_b2, grad_b3, grad_a0, grad_a1, grad_a2"
      ],
      "execution_count": null,
      "outputs": []
    },
    {
      "cell_type": "markdown",
      "metadata": {
        "id": "iRsq4eqvWWcf"
      },
      "source": [
        "**Activation function:**"
      ]
    },
    {
      "cell_type": "code",
      "metadata": {
        "id": "ue984j0_zEqV"
      },
      "source": [
        "import math\n",
        "\n",
        "def sigmoid(x):\n",
        "  if x<0:\n",
        "    return 1 - 1/(1 + math.exp(x))\n",
        "  else:\n",
        "    return 1/(1 + math.exp(-x))\n",
        "\n",
        "sigmoid = np.vectorize(sigmoid)\n",
        "\n",
        "def sigmoid_deriv(x):  \n",
        "  return sigmoid(x)*(1-sigmoid(x))\n",
        "\n",
        "def tanh(x):\n",
        "  return math.tanh(x)\n",
        "tanh = np.vectorize(tanh)\n",
        "\n",
        "def tanh_deriv(x):\n",
        "  return 1 / np.cosh(-x)\n",
        "\n",
        "tanh_deriv = np.vectorize(tanh_deriv)"
      ],
      "execution_count": 180,
      "outputs": []
    },
    {
      "cell_type": "markdown",
      "metadata": {
        "id": "Qp85N-jEWk-N"
      },
      "source": [
        "`result()` returns an array containing zero values except the index correspondening to the index of maximum value in the NN's last layer which has the value of 1."
      ]
    },
    {
      "cell_type": "code",
      "metadata": {
        "id": "0zeMIYWPWiRU"
      },
      "source": [
        "def result(o):\n",
        "  max_index = 0\n",
        "  max_num = 0\n",
        "  output = np.zeros((10,1))\n",
        "  \n",
        "  for i in range(len(o)):\n",
        "    if o[i] > max_num:\n",
        "      max_num = o[i]\n",
        "      max_index = i\n",
        "  \n",
        "  output[max_index] = 1\n",
        "  return output"
      ],
      "execution_count": null,
      "outputs": []
    },
    {
      "cell_type": "markdown",
      "metadata": {
        "id": "E_qHuLu1XyiS"
      },
      "source": [
        "**`run_nn()`**Calculate Output and Weights and biases and ... for one input."
      ]
    },
    {
      "cell_type": "code",
      "metadata": {
        "id": "_MP7pvnszYuU"
      },
      "source": [
        "def run_nn(input, w21Mat, w32Mat, w43Mat, b1, b2, b3, activation_func = sigmoid):\n",
        "  z1 = (w21Mat @ input) + b1\n",
        "  a1 = activation_func(z1)\n",
        "\n",
        "  z2 = (w32Mat @ a1) + b2\n",
        "  a2 = activation_func(z2)\n",
        "\n",
        "  z3 = (w43Mat @ a2) + b3\n",
        "  a3 = activation_func(z3)\n",
        "  return result(a3), a3 , a2 ,a1, input, z3, z2, z1\n"
      ],
      "execution_count": null,
      "outputs": []
    },
    {
      "cell_type": "code",
      "metadata": {
        "id": "5mDKIZHuXw-t"
      },
      "source": [
        "def calculate_accuracy(input_set, output):\n",
        "  counter = 0\n",
        "  for i in range(len(output)):\n",
        "    if np.array_equal(output[i], input_set[i][1]):\n",
        "      counter+=1\n",
        "  return counter\n",
        "\n",
        "def calculate_accuracy_percent(input_set, output):\n",
        "  return calculate_accuracy(input_set, output)/len(output)"
      ],
      "execution_count": null,
      "outputs": []
    },
    {
      "cell_type": "markdown",
      "metadata": {
        "id": "XGkyVFdWYQ_1"
      },
      "source": [
        "**Calculate result for first 100 images(قدم دوم):**"
      ]
    },
    {
      "cell_type": "code",
      "metadata": {
        "colab": {
          "base_uri": "https://localhost:8080/"
        },
        "id": "vAuJxiH4YQ_1",
        "outputId": "c170df4d-e839-44df-9a3a-c837ad997f9c"
      },
      "source": [
        "w21Mat, w32Mat, w43Mat, b1, b2, b3 = init_nn()\n",
        "output = []\n",
        "for i in range(100):\n",
        "  o, _, _, _, _, _, _, _ = run_nn(train_set[i][0],w21Mat, w32Mat, w43Mat, b1, b2, b3 )\n",
        "  output.append(o)\n",
        "\n",
        "print('Accuracy: ' + str(calculate_accuracy_percent(train_set, output)))\n",
        "  "
      ],
      "execution_count": null,
      "outputs": [
        {
          "output_type": "stream",
          "text": [
            "Accuracy: 0.16\n"
          ],
          "name": "stdout"
        }
      ]
    },
    {
      "cell_type": "markdown",
      "metadata": {
        "id": "ZI1pqXzWb7Qw"
      },
      "source": [
        "**Script for NN(Not vectorized)**\n"
      ]
    },
    {
      "cell_type": "code",
      "metadata": {
        "id": "-DUdhkrjogxW"
      },
      "source": [
        "import time \n",
        "from tqdm import tqdm\n",
        "\n",
        "def nn_not_vectorized(learning_rate = 1, number_of_epochs = 20, batch_size = 10):\n",
        "  before = time.time()\n",
        "\n",
        "  w21Mat, w32Mat, w43Mat, b1, b2, b3 = init_nn()\n",
        "  costPerEpoch = np.zeros(number_of_epochs)\n",
        "  cost = 0\n",
        "\n",
        "  total_acc = 0\n",
        "  out = []\n",
        "  for epoch in range(number_of_epochs):\n",
        "    del out[:]\n",
        "    for batch_num in range(int(100 / batch_size)):\n",
        "      batch = train_set[batch_num * batch_size:(batch_num+1)* batch_size]\n",
        "      grad_W21, grad_W32, grad_W43, grad_b1, grad_b2, grad_b3, grad_a0, grad_a1, grad_a2 = init_grad()\n",
        "\n",
        "      for image_value in batch:\n",
        "        image = image_value[0]\n",
        "        output, a3, a2, a1, a0, z3, z2, z1 = run_nn(image, w21Mat, w32Mat, w43Mat, b1, b2, b3)\n",
        "        out.append(output)\n",
        "        # dcost/dw:\n",
        "        #Third layer\n",
        "        for j in range(layerNeurons[3]):\n",
        "          temp_b3 = sigmoid_deriv(z3[j]) * 2 * (a3[j] - image_value[1][j])\n",
        "          grad_b3[j] += temp_b3\n",
        "          for k in range(layerNeurons[2]):\n",
        "            grad_W43[j, k] += a2[k] *  temp_b3\n",
        "            \n",
        "        for k in range(layerNeurons[2]):\n",
        "          for j in range(layerNeurons[3]):\n",
        "            grad_a2[k] += w43Mat[j, k] *  sigmoid_deriv(z3[j]) * 2 * (a3[j] - image_value[1][j])\n",
        "\n",
        "        #Second layer\n",
        "        for j in range(layerNeurons[2]):\n",
        "          temp_b2 = sigmoid_deriv(z2[j]) * grad_a2[j]\n",
        "          grad_b2[j] += temp_b2\n",
        "          for k in range(layerNeurons[1]):\n",
        "            grad_W32[j, k] += a1[k] * temp_b2\n",
        "\n",
        "        for k in range(layerNeurons[1]):\n",
        "          for j in range(layerNeurons[2]):\n",
        "            grad_a1[k] += w32Mat[j, k] * sigmoid_deriv(z2[j]) * grad_a2[j]\n",
        "\n",
        "        #First layer\n",
        "        for j in range(layerNeurons[1]):\n",
        "          temp_b1 = sigmoid_deriv(z1[j]) * grad_a1[j]\n",
        "          grad_b1[j] += temp_b1\n",
        "          for k in range(layerNeurons[0]):\n",
        "            grad_W21[j, k] += a0[k] * temp_b1\n",
        "\n",
        "        for j in range(layerNeurons[3]):\n",
        "          cost += (a3[j] - image_value[1][j]) ** 2\n",
        "      \n",
        "      w43Mat -= learning_rate * (grad_W43 / batch_size)\n",
        "      w32Mat -= learning_rate * (grad_W32 / batch_size)\n",
        "      w21Mat -= learning_rate * (grad_W21 / batch_size)\n",
        "\n",
        "      b3 -= learning_rate * (grad_b3 / batch_size)\n",
        "      b2 -= learning_rate * (grad_b2 / batch_size)\n",
        "      b1 -= learning_rate * (grad_b1 / batch_size)\n",
        "\n",
        "    costPerEpoch[epoch] += cost/100\n",
        "\n",
        "    cost = 0\n",
        "    total_acc += calculate_accuracy(train_set, out)\n",
        "    \n",
        "\n",
        "  now = time.time()\n",
        "  total_acc = total_acc / (number_of_epochs * 100)\n",
        "\n",
        "  return (now - before), total_acc, costPerEpoch\n",
        "\n",
        "total_time, total_accuracy, costPEpoch = nn_not_vectorized(1, 20 , 10)\n"
      ],
      "execution_count": null,
      "outputs": []
    },
    {
      "cell_type": "markdown",
      "metadata": {
        "id": "TQTxU6s2SVOy"
      },
      "source": [
        "**Using the first 100 images and Backpropagation(قدم سوم):**\n",
        "- Plot Costs/epoch \n",
        "- Calculate total running time  \n",
        " \n",
        "```\n",
        "learning_rate = 1\n",
        "number_of_epochs = 20\n",
        "batch_size = 10\n",
        "```"
      ]
    },
    {
      "cell_type": "code",
      "metadata": {
        "colab": {
          "base_uri": "https://localhost:8080/",
          "height": 302
        },
        "id": "4D5mIzahj1f7",
        "outputId": "9eb42141-38c2-490c-c2a2-35e1d96063c9"
      },
      "source": [
        "number_of_epochs = 20\n",
        "\n",
        "print(\"Total run time:\", total_time/60, \"min\")\n",
        "print(\"Accuracy\", total_accuracy)\n",
        "plot(np.arange(0, number_of_epochs, step = 1), costPEpoch)"
      ],
      "execution_count": null,
      "outputs": [
        {
          "output_type": "stream",
          "text": [
            "Total run time: 3.0765849312146503 min\n",
            "Accuracy 0.3875\n"
          ],
          "name": "stdout"
        },
        {
          "output_type": "display_data",
          "data": {
            "image/png": "[encoded data removed]",
            "text/plain": [
              "<Figure size 432x288 with 1 Axes>"
            ]
          },
          "metadata": {
            "tags": [],
            "needs_background": "light"
          }
        }
      ]
    },
    {
      "cell_type": "markdown",
      "metadata": {
        "id": "1Fn8PiDxVJNT"
      },
      "source": [
        "**Vectorized NN script:**\n"
      ]
    },
    {
      "cell_type": "code",
      "metadata": {
        "cellView": "code",
        "id": "ghhRlUXRVF-E"
      },
      "source": [
        "import time \n",
        "def nn_vectorized(input_set, images_count = 100, learning_rate = 1, number_of_epochs = 20, batch_size = 10, activation_func = sigmoid):\n",
        "  before = time.time()\n",
        "\n",
        "  activation_func_deriv = sigmoid_deriv\n",
        "  if activation_func == relu:\n",
        "    activation_func_deriv = relu_deriv\n",
        "  elif activation_func == tanh:\n",
        "    activation_func_deriv = tanh_deriv\n",
        "\n",
        "  w21Mat, w32Mat, w43Mat, b1, b2, b3 = init_nn()\n",
        "  costPerEpoch = np.zeros(number_of_epochs)\n",
        "  cost = 0\n",
        "\n",
        "  total_acc = 0\n",
        "  out = []\n",
        "  for epoch in range(number_of_epochs):\n",
        "    del out[:]\n",
        "    for batch_num in range(int(images_count / batch_size)):\n",
        "      batch = input_set[batch_num * batch_size:(batch_num+1)* batch_size]\n",
        "      grad_W21, grad_W32, grad_W43, grad_b1, grad_b2, grad_b3, grad_a0, grad_a1, grad_a2 = init_grad()\n",
        "\n",
        "      for image_value in batch:\n",
        "        image = image_value[0]\n",
        "        output, a3, a2, a1, a0, z3, z2, z1 = run_nn(image, w21Mat, w32Mat, w43Mat, b1, b2, b3, activation_func)\n",
        "        out.append(output)\n",
        "        # dcost/dw:\n",
        "        #Third layer\n",
        "        tempb3 = 2 * activation_func_deriv(z3) * (a3 - image_value[1])\n",
        "        grad_b3 += tempb3\n",
        "        grad_W43 += tempb3 @ (np.transpose(a2))\n",
        "        grad_a2 += np.transpose(w43Mat) @ tempb3\n",
        "      \n",
        "        #Second layer\n",
        "        tempb2 =  activation_func_deriv(z2) * grad_a2\n",
        "        grad_b2 += tempb2\n",
        "        grad_W32 += tempb2 @ (np.transpose(a1)) \n",
        "        \n",
        "        grad_a1 += np.transpose(w32Mat) @ tempb2\n",
        "      \n",
        "        #First layer\n",
        "        tempb1 = activation_func_deriv(z1) * grad_a1\n",
        "        grad_b1 += tempb1\n",
        "        grad_W21 += tempb1 @ (np.transpose(a0)) \n",
        "      \n",
        "        #Cost\n",
        "        for j in range(layerNeurons[3]):\n",
        "          cost += (a3[j] - image_value[1][j]) ** 2\n",
        "      \n",
        "      w43Mat -= learning_rate * (grad_W43 / batch_size)\n",
        "      w32Mat -= learning_rate * (grad_W32 / batch_size)\n",
        "      w21Mat -= learning_rate * (grad_W21 / batch_size)\n",
        "\n",
        "      b3 -= learning_rate * (grad_b3 / batch_size)\n",
        "      b2 -= learning_rate * (grad_b2 / batch_size)\n",
        "      b1 -= learning_rate * (grad_b1 / batch_size)\n",
        "\n",
        "    costPerEpoch[epoch] += cost/images_count\n",
        "    cost = 0\n",
        "    total_acc += calculate_accuracy(input_set, out)\n",
        "    \n",
        "  now = time.time()\n",
        "  total_acc = total_acc / (images_count * number_of_epochs)\n",
        "\n",
        "  return (now - before), total_acc, costPerEpoch, w21Mat, w32Mat, w43Mat, b1, b2, b3"
      ],
      "execution_count": null,
      "outputs": []
    },
    {
      "cell_type": "markdown",
      "metadata": {
        "id": "wLzdjM-3YgZ9"
      },
      "source": [
        "**Using the first 100 images and Backpropagation(قدم چهارم, Vectorized):**\n",
        "- Plot Costs/epoch \n",
        "- Calculate total running time  \n",
        "- Calculate Accuracy"
      ]
    },
    {
      "cell_type": "code",
      "metadata": {
        "colab": {
          "base_uri": "https://localhost:8080/",
          "height": 302
        },
        "id": "Alpor4BdgnBs",
        "outputId": "8d899d2b-b278-4f08-9120-99dadba952fb"
      },
      "source": [
        "number_of_epochs2 = 200\n",
        "total_time2, total_accuracy2, costPerEpoch2, _, _, _, _, _, _ = nn_vectorized(train_set, number_of_epochs=number_of_epochs2)\n",
        "\n",
        "print(\"Total run time:\", total_time2/60, \"min\")\n",
        "print(\"Accuracy:\", total_accuracy2)\n",
        "plot(np.arange(0, number_of_epochs2, step = 1), costPerEpoch2)"
      ],
      "execution_count": 204,
      "outputs": [
        {
          "output_type": "stream",
          "text": [
            "Total run time: 0.22893885374069214 min\n",
            "Accuracy: 0.63045\n"
          ],
          "name": "stdout"
        },
        {
          "output_type": "display_data",
          "data": {
            "image/png": "[encoded data removed]",
            "text/plain": [
              "<Figure size 432x288 with 1 Axes>"
            ]
          },
          "metadata": {
            "tags": [],
            "needs_background": "light"
          }
        }
      ]
    },
    {
      "cell_type": "markdown",
      "metadata": {
        "id": "gOMwtzt6YuSe"
      },
      "source": [
        "**Run the program for the whole training set(60000):**"
      ]
    },
    {
      "cell_type": "code",
      "metadata": {
        "id": "asAyQTCclfD1"
      },
      "source": [
        "number_of_epochs_final = 5\n",
        "final_total_time, final_total_accuracy, final_costPerEpoch, final_w21Mat, final_w32Mat, final_w43Mat, final_b1, final_b2, final_b3  = nn_vectorized(train_set, images_count=60000, learning_rate=1, number_of_epochs=number_of_epochs_final, batch_size=5, activation_func= sigmoid)"
      ],
      "execution_count": null,
      "outputs": []
    },
    {
      "cell_type": "markdown",
      "metadata": {
        "id": "D7SOw2JdY_4Q"
      },
      "source": [
        "Results:"
      ]
    },
    {
      "cell_type": "code",
      "metadata": {
        "colab": {
          "base_uri": "https://localhost:8080/",
          "height": 302
        },
        "id": "FVH6DMZwjI_v",
        "outputId": "3540ed6c-0d9c-4dda-9370-c9ca64d7d8e7"
      },
      "source": [
        "print(\"Total run time:\", final_total_time/60, \"min\")\n",
        "print(\"Train Set Accuracy:\", final_total_accuracy)\n",
        "plot(np.arange(0, number_of_epochs_final, step = 1), final_costPerEpoch)"
      ],
      "execution_count": null,
      "outputs": [
        {
          "output_type": "stream",
          "text": [
            "Total run time: 3.475572037696838 min\n",
            "Train Set Accuracy: 0.8339266666666667\n"
          ],
          "name": "stdout"
        },
        {
          "output_type": "display_data",
          "data": {
            "image/png": "[encoded data removed]",
            "text/plain": [
              "<Figure size 432x288 with 1 Axes>"
            ]
          },
          "metadata": {
            "tags": [],
            "needs_background": "light"
          }
        }
      ]
    },
    {
      "cell_type": "markdown",
      "metadata": {
        "id": "vJBGEaiZZ-g_"
      },
      "source": [
        "**Run test set:**"
      ]
    },
    {
      "cell_type": "code",
      "metadata": {
        "colab": {
          "base_uri": "https://localhost:8080/"
        },
        "id": "uijDVwOROJVT",
        "outputId": "f2867346-fb0d-4faf-cf59-f98e21362b64"
      },
      "source": [
        "output = []\n",
        "for i in range(len(test_set)):\n",
        "  o, _, _, _, _, _, _, _ = run_nn(test_set[i][0],final_w21Mat, final_w32Mat, final_w43Mat, final_b1, final_b2, final_b3, sigmoid)\n",
        "  output.append(o)\n",
        "print('Test set Accuracy: ' + str(calculate_accuracy_percent(test_set, output)))"
      ],
      "execution_count": null,
      "outputs": [
        {
          "output_type": "stream",
          "text": [
            "Test set Accuracy: 0.9015\n"
          ],
          "name": "stdout"
        }
      ]
    },
    {
      "cell_type": "markdown",
      "metadata": {
        "id": "M3qUp47jK_1c"
      },
      "source": [
        "**Shift images:**"
      ]
    },
    {
      "cell_type": "code",
      "metadata": {
        "id": "qlsp9UVHLHF4"
      },
      "source": [
        "from copy import deepcopy\n",
        "shift_test_set = []\n",
        "for i in range(len(test_set)):\n",
        "  image_value = deepcopy(test_set[i])\n",
        "  image = image_value[0].reshape((28,28))\n",
        "  for j in range(28):\n",
        "    image[j][4:28] = image[j][0:24]\n",
        "    image[j][0] = 0 \n",
        "    image[j][1] = 0\n",
        "    image[j][2] = 0\n",
        "    image[j][3] = 0\n",
        "  image = image.reshape(784,1)\n",
        "  shift_test_set.append((image, image_value[1]))\n"
      ],
      "execution_count": null,
      "outputs": []
    },
    {
      "cell_type": "code",
      "metadata": {
        "colab": {
          "base_uri": "https://localhost:8080/",
          "height": 302
        },
        "id": "HBmd2Tr9NXQL",
        "outputId": "361de717-dc23-4fcd-8bb2-14e8ea902d52"
      },
      "source": [
        "# Plotting an image\n",
        "show_image(shift_test_set[6][0])\n",
        "print(get_number(shift_test_set[6]))\n",
        "type(shift_test_set[6][0])"
      ],
      "execution_count": null,
      "outputs": [
        {
          "output_type": "display_data",
          "data": {
            "image/png": "[encoded data removed]",
            "text/plain": [
              "<Figure size 432x288 with 1 Axes>"
            ]
          },
          "metadata": {
            "tags": [],
            "needs_background": "light"
          }
        },
        {
          "output_type": "stream",
          "text": [
            "4\n"
          ],
          "name": "stdout"
        },
        {
          "output_type": "execute_result",
          "data": {
            "text/plain": [
              "numpy.ndarray"
            ]
          },
          "metadata": {
            "tags": []
          },
          "execution_count": 143
        }
      ]
    },
    {
      "cell_type": "markdown",
      "metadata": {
        "id": "VhmK2iozOB4e"
      },
      "source": [
        "**Test model with shifted images:**"
      ]
    },
    {
      "cell_type": "code",
      "metadata": {
        "colab": {
          "base_uri": "https://localhost:8080/"
        },
        "id": "b8BeDqDLOEy6",
        "outputId": "1956e878-c1c8-4a7a-a81c-2991aff58544"
      },
      "source": [
        "shift_output = []\n",
        "for i in range(len(shift_test_set)):\n",
        "  o_shift, _, _, _, _, _, _, _ = run_nn(shift_test_set[i][0],final_w21Mat, final_w32Mat, final_w43Mat, final_b1, final_b2, final_b3)\n",
        "  shift_output.append(o_shift)\n",
        "print('Shifted Test set Accuracy: ' + str(calculate_accuracy_percent(shift_test_set, shift_output)))"
      ],
      "execution_count": null,
      "outputs": [
        {
          "output_type": "stream",
          "text": [
            "Shifted Test set Accuracy: 0.2676\n"
          ],
          "name": "stdout"
        }
      ]
    },
    {
      "cell_type": "markdown",
      "metadata": {
        "id": "XcYcYudYwY3U"
      },
      "source": [
        "**Testing our model using tanh activation function:**"
      ]
    },
    {
      "cell_type": "code",
      "metadata": {
        "id": "v518zMDWwcIW"
      },
      "source": [
        "number_of_epochs_final = 10\n",
        "tanh_total_time, tanh_total_accuracy, tanh_costPerEpoch, tanh_w21Mat, tanh_w32Mat, tanh_w43Mat, tanh_b1, tanh_b2, tanh_b3  = nn_vectorized(train_set, images_count=60000, learning_rate=0.05, number_of_epochs=number_of_epochs_final, batch_size=2, activation_func= tanh)"
      ],
      "execution_count": 200,
      "outputs": []
    },
    {
      "cell_type": "code",
      "metadata": {
        "colab": {
          "base_uri": "https://localhost:8080/",
          "height": 302
        },
        "id": "ksIPIYn1wn1e",
        "outputId": "e76b482e-dddf-4eb2-af03-d3efc9de7796"
      },
      "source": [
        "print(\"Total run time:\", tanh_total_time/60, \"min\")\n",
        "print(\"Train Set Accuracy:\", tanh_total_accuracy)\n",
        "plot(np.arange(0, number_of_epochs_final, step = 1), tanh_costPerEpoch)"
      ],
      "execution_count": 201,
      "outputs": [
        {
          "output_type": "stream",
          "text": [
            "Total run time: 6.579898269971212 min\n",
            "Train Set Accuracy: 0.8415966666666667\n"
          ],
          "name": "stdout"
        },
        {
          "output_type": "display_data",
          "data": {
            "image/png": "[encoded data removed]",
            "text/plain": [
              "<Figure size 432x288 with 1 Axes>"
            ]
          },
          "metadata": {
            "tags": [],
            "needs_background": "light"
          }
        }
      ]
    },
    {
      "cell_type": "markdown",
      "metadata": {
        "id": "5Ygx62PIwtD7"
      },
      "source": [
        "Run test set with tanh actiovation function:"
      ]
    },
    {
      "cell_type": "code",
      "metadata": {
        "id": "nmGQ4uz2wvQc",
        "colab": {
          "base_uri": "https://localhost:8080/"
        },
        "outputId": "8bb3c3d9-2f81-48ae-d6e9-1d9cfc1311c1"
      },
      "source": [
        "tanh_output = []\n",
        "for i in range(len(test_set)):\n",
        "  tanh_o, _, _, _, _, _, _, _ = run_nn(test_set[i][0],tanh_w21Mat, tanh_w32Mat, tanh_w43Mat, tanh_b1, tanh_b2, tanh_b3, tanh)\n",
        "  tanh_output.append(tanh_o)\n",
        "print('Test set Accuracy: ' + str(calculate_accuracy_percent(test_set, tanh_output)))"
      ],
      "execution_count": 202,
      "outputs": [
        {
          "output_type": "stream",
          "text": [
            "Test set Accuracy: 0.9\n"
          ],
          "name": "stdout"
        }
      ]
    }
  ]
}